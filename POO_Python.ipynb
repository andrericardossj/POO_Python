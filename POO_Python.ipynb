{
  "nbformat": 4,
  "nbformat_minor": 0,
  "metadata": {
    "colab": {
      "name": "POO Python",
      "provenance": [],
      "collapsed_sections": [],
      "authorship_tag": "ABX9TyPvv3j3dDutadDDGYZ/VGT7",
      "include_colab_link": true
    },
    "kernelspec": {
      "name": "python3",
      "display_name": "Python 3"
    },
    "language_info": {
      "name": "python"
    }
  },
  "cells": [
    {
      "cell_type": "markdown",
      "metadata": {
        "id": "view-in-github",
        "colab_type": "text"
      },
      "source": [
        "<a href=\"https://colab.research.google.com/github/andrericardossj/POO_Python/blob/main/POO_Python.ipynb\" target=\"_parent\"><img src=\"https://colab.research.google.com/assets/colab-badge.svg\" alt=\"Open In Colab\"/></a>"
      ]
    },
    {
      "cell_type": "code",
      "metadata": {
        "id": "_vYRKbAZk7xw"
      },
      "source": [
        "class NomeClasse: #cabeçalho da classe\n",
        "  '''docstring (opicional)'''\n",
        "  dado = valor #dado de classe compartilhado (atributo de classe)\n",
        "  def metodo_construtor #metodo construtor\n",
        "    codigo metodo construtor\n",
        "  def metodo(self,...) #metodo geral\n",
        "    self.membro = valor #Dado de instancia ('self')\n",
        "  pass #Classe sem nenhuma função (ainda)\n",
        "\n",
        "print(type(NomeClasse)) #Classe do elemento"
      ],
      "execution_count": null,
      "outputs": []
    },
    {
      "cell_type": "code",
      "metadata": {
        "id": "8YUqF8wDoy2K"
      },
      "source": [
        "class Cubo:\n",
        "  '''Classe para calcular o cubo de um número'''\n",
        "  def __init__(self, valor): #metodo construtor da classe\n",
        "    self.x = valor \n",
        "    print('Objeto criado!')\n",
        "  def calcula_cubo(self): #metodo geral\n",
        "    cubo = self.x * self.x * self.x\n",
        "    return 'Cubo calculado: ' + str(cubo)\n"
      ],
      "execution_count": null,
      "outputs": []
    },
    {
      "cell_type": "code",
      "metadata": {
        "id": "VH1DdCOjp0Rr"
      },
      "source": [
        "teste = Cubo(6)\n",
        "c = teste.calcula_cubo()\n",
        "print(c)"
      ],
      "execution_count": null,
      "outputs": []
    },
    {
      "cell_type": "code",
      "metadata": {
        "id": "Sv2rtUOny2r9"
      },
      "source": [
        "class Gato:\n",
        "  def __init__(self, nome):\n",
        "    self.nome = nome\n",
        "    print('Seu gatinho se chama: ', self.nome)\n",
        "  \n",
        "nome_gato = input('Digite o nome de seu gato: ')\n",
        "g1 = Gato(nome_gato)"
      ],
      "execution_count": null,
      "outputs": []
    },
    {
      "cell_type": "code",
      "metadata": {
        "id": "GOD0VD2N3wLt"
      },
      "source": [
        "class Gato:\n",
        "  def __init__(self, nome):\n",
        "    self.nome = nome\n",
        "    print('Seu gatinho se chama: ', self.nome)\n",
        "\n",
        "  def peso_gato(self, peso):\n",
        "    self.peso = peso\n",
        "    if self.peso > 5.0:\n",
        "      print('Seu gato está gordinho!')\n",
        "    elif self.peso > 3.5:\n",
        "      print('Peso parece normal')\n",
        "    else:\n",
        "      print('O animal está abaixo do peso!')\n",
        "    \n",
        "  def _dieta_especial_gato(self):\n",
        "    self.msg = 'Tudo ok!'\n",
        "    if self.peso < 3.5:\n",
        "      self.msg = 'Aumente a ração do gato'\n",
        "    if self.peso >= 5.5:\n",
        "      self.msg = 'Diminua a ração do gato'\n",
        "    return self.msg\n",
        "\n",
        "  def dados_gato(self):\n",
        "    print('\\nO gato', self.nome, 'está com', self.peso, 'kg')\n",
        "    print(self._dieta_especial_gato())\n",
        "\n",
        "nome_gato = input('Digite o nome do seu gato: ')\n",
        "g1 = Gato(nome_gato)\n",
        "\n",
        "peso = float (input('\\nDigite o peso do seu gato: '))\n",
        "g1.peso_gato(peso)\n",
        "\n",
        "g1.dados_gato()"
      ],
      "execution_count": null,
      "outputs": []
    },
    {
      "cell_type": "code",
      "metadata": {
        "colab": {
          "base_uri": "https://localhost:8080/"
        },
        "id": "WnzgkmFQDL1-",
        "outputId": "f3660e9d-142c-4d01-fa87-c2bca387660b"
      },
      "source": [
        "#variaveis de classe e de instancia\n",
        "class Gato:\n",
        "  tipo_animal = 'Felino'\n",
        "\n",
        "  def __init__(self, nome):\n",
        "    self.nome = nome\n",
        "\n",
        "Gato.tipo_animal = 'Pet'\n",
        "\n",
        "g1 = Gato('Opie')\n",
        "g2 = Gato('Alfredo')\n",
        "\n",
        "print(g1.nome)\n",
        "print(g2.nome)\n",
        "\n",
        "g1.tipo_animal = 'Bichano'\n",
        "\n",
        "print(g1.tipo_animal)\n",
        "print(g2.tipo_animal)"
      ],
      "execution_count": null,
      "outputs": [
        {
          "output_type": "stream",
          "text": [
            "Opie\n",
            "Alfredo\n",
            "Bichano\n",
            "Pet\n"
          ],
          "name": "stdout"
        }
      ]
    },
    {
      "cell_type": "code",
      "metadata": {
        "colab": {
          "base_uri": "https://localhost:8080/"
        },
        "id": "ZwlkIskYFL1B",
        "outputId": "424cd3ad-612c-48ca-8abd-bbeb834d928f"
      },
      "source": [
        "#objetos\n",
        "\n",
        "class CalcCubo:\n",
        "  '''Classe para calcular o cubo de um número'''\n",
        "  def __init__(self, valor): #metodo construtor da classe\n",
        "    self.x = valor \n",
        "    print('Objeto criado!')\n",
        "  def calcula_cubo(self): #metodo geral\n",
        "    self.cubo = self.x * self.x * self.x\n",
        "    return 'Cubo calculado: ' + str(self.cubo)\n",
        "\n",
        "num = int (input('Entre com um número: '))\n",
        "objCubo = CalcCubo(num) #instanciar a classe\n",
        "cubo = objCubo.calcula_cubo()\n",
        "print(cubo)"
      ],
      "execution_count": null,
      "outputs": [
        {
          "output_type": "stream",
          "text": [
            "Entre com um número: 6\n",
            "Objeto criado!\n",
            "Cubo calculado: 216\n"
          ],
          "name": "stdout"
        }
      ]
    },
    {
      "cell_type": "code",
      "metadata": {
        "colab": {
          "base_uri": "https://localhost:8080/"
        },
        "id": "bRH4vEXdLXYX",
        "outputId": "08a317e5-202c-4909-e1d7-2adfb35781d5"
      },
      "source": [
        "#getter e setter\n",
        "\n",
        "class Teste():\n",
        "  def __init__(self, valor):\n",
        "    self.x = valor\n",
        "  \n",
        "  def get_valor(self):\n",
        "    '''Metodo getter para retornar o valor do atributo x'''\n",
        "    return self.x\n",
        " \n",
        "  def set_valor(self, v):\n",
        "     '''Metodo setter para atribuir um novo valor ao atributo x'''\n",
        "     self.x = v\n",
        "\n",
        "teste = Teste(10)\n",
        "print('Valor do objeto: ', teste.get_valor())\n",
        "\n",
        "val = int(input('Entre com um valor númerico: '))\n",
        "teste.set_valor(val)\n",
        "print('Valor do objeto após atribuição: ', teste.get_valor())"
      ],
      "execution_count": null,
      "outputs": [
        {
          "output_type": "stream",
          "text": [
            "Valor do objeto:  10\n",
            "Entre com um valor númerico: 22\n",
            "Valor do objeto após atribuição:  22\n"
          ],
          "name": "stdout"
        }
      ]
    }
  ]
}